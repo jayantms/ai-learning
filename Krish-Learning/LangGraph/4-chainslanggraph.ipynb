{
 "cells": [
  {
   "cell_type": "code",
   "execution_count": 18,
   "id": "e98d04ac",
   "metadata": {},
   "outputs": [],
   "source": [
    "from dotenv import load_dotenv\n",
    "load_dotenv()\n",
    "\n",
    "import os\n",
    "os.environ[\"OPENAI_API_KEY\"] = os.getenv(\"OPENAI_API_KEY\")\n",
    "os.environ[\"GROQ_API_KEY\"] = os.getenv(\"GROQ_API_KEY\")\n"
   ]
  },
  {
   "cell_type": "code",
   "execution_count": 19,
   "id": "5f4a52f2",
   "metadata": {},
   "outputs": [
    {
     "name": "stdout",
     "output_type": "stream",
     "text": [
      "==================================\u001b[1m Ai Message \u001b[0m==================================\n",
      "Name: LLMModel\n",
      "\n",
      "Please tell me how can I help you?\n",
      "================================\u001b[1m Human Message \u001b[0m=================================\n",
      "Name: Human\n",
      "\n",
      "I want to start learning coding.\n",
      "==================================\u001b[1m Ai Message \u001b[0m==================================\n",
      "Name: LLMModel\n",
      "\n",
      "Sure, what programming language are you interested in?\n",
      "================================\u001b[1m Human Message \u001b[0m=================================\n",
      "Name: Human\n",
      "\n",
      "I want to learn Python programming language.\n"
     ]
    }
   ],
   "source": [
    "from langchain_core.messages import AIMessage, HumanMessage\n",
    "from pprint import pprint\n",
    "\n",
    "messages = [AIMessage(content=f\"Please tell me how can I help you?\", name=\"LLMModel\")]\n",
    "messages.append(HumanMessage(content=f\"I want to start learning coding.\", name=\"Human\"))\n",
    "messages.append(AIMessage(content=f\"Sure, what programming language are you interested in?\", name=\"LLMModel\"))\n",
    "messages.append(HumanMessage(content=f\"I want to learn Python programming language.\", name=\"Human\"))\n",
    "\n",
    "for message in messages: \n",
    "    message.pretty_print()\n"
   ]
  },
  {
   "cell_type": "code",
   "execution_count": 20,
   "id": "225f995c",
   "metadata": {},
   "outputs": [
    {
     "data": {
      "text/plain": [
       "{'token_usage': {'completion_tokens': 1523,\n",
       "  'prompt_tokens': 62,\n",
       "  'total_tokens': 1585,\n",
       "  'completion_time': 3.081480245,\n",
       "  'prompt_time': 0.002779156,\n",
       "  'queue_time': 0.19865538,\n",
       "  'total_time': 3.084259401},\n",
       " 'model_name': 'qwen/qwen3-32b',\n",
       " 'system_fingerprint': 'fp_5cf921caa2',\n",
       " 'service_tier': 'on_demand',\n",
       " 'finish_reason': 'stop',\n",
       " 'logprobs': None}"
      ]
     },
     "execution_count": 20,
     "metadata": {},
     "output_type": "execute_result"
    }
   ],
   "source": [
    "from langchain_groq import ChatGroq\n",
    "llm = ChatGroq(model=\"qwen/qwen3-32b\")\n",
    "results=llm.invoke(messages)\n",
    "\n",
    "results.content\n",
    "results.response_metadata\n"
   ]
  },
  {
   "cell_type": "code",
   "execution_count": 21,
   "id": "3aee76f0",
   "metadata": {},
   "outputs": [],
   "source": [
    "def add(a:int, b: int) -> int: \n",
    "    \"\"\" Add a and b \n",
    "    Args: \n",
    "        a (int): first number \n",
    "        b (int): second number\n",
    "\n",
    "    Returns:\n",
    "        int: sum of a and b\n",
    "    \"\"\"\n",
    "    return a + b \n"
   ]
  },
  {
   "cell_type": "code",
   "execution_count": 22,
   "id": "649d651b",
   "metadata": {},
   "outputs": [
    {
     "data": {
      "text/plain": [
       "[{'name': 'add',\n",
       "  'args': {'a': 10, 'b': 12},\n",
       "  'id': 'gzzmner04',\n",
       "  'type': 'tool_call'}]"
      ]
     },
     "execution_count": 22,
     "metadata": {},
     "output_type": "execute_result"
    }
   ],
   "source": [
    "## Bind the tool to the LLM \n",
    "\n",
    "llm_with_tools = llm.bind_tools([add])\n",
    "results_with_tools=llm_with_tools.invoke([HumanMessage(content=\"What is the sum of 10 and 12?\", name=\"Human\")])\n",
    "results_with_tools.tool_calls\n",
    "\n",
    "\n"
   ]
  },
  {
   "cell_type": "code",
   "execution_count": 23,
   "id": "c48da293",
   "metadata": {},
   "outputs": [],
   "source": [
    "from typing_extensions import Annotated, TypedDict\n",
    "from langchain_core.messages import AnyMessage\n",
    "from langgraph.graph.message import add_messages \n",
    "\n",
    "class State(TypedDict):\n",
    "    messages: Annotated[list[AnyMessage], add_messages]\n",
    "\n"
   ]
  },
  {
   "cell_type": "code",
   "execution_count": 24,
   "id": "03edcf39",
   "metadata": {},
   "outputs": [
    {
     "data": {
      "text/plain": [
       "[AIMessage(content='Please tell me how can I help you?', additional_kwargs={}, response_metadata={}, name='LLMModel'),\n",
       " HumanMessage(content='I want to start learning coding.', additional_kwargs={}, response_metadata={}, name='Human')]"
      ]
     },
     "execution_count": 24,
     "metadata": {},
     "output_type": "execute_result"
    }
   ],
   "source": [
    "## Reducers with add_messages\n",
    "\n",
    "initial_messages = [AIMessage(content=f\"Please tell me how can I help you?\", name=\"LLMModel\")]\n",
    "initial_messages.append(HumanMessage(content=f\"I want to start learning coding.\", name=\"Human\"))\n",
    "\n",
    "initial_messages"
   ]
  },
  {
   "cell_type": "code",
   "execution_count": 27,
   "id": "2b5bc4cd",
   "metadata": {},
   "outputs": [
    {
     "data": {
      "text/plain": [
       "[AIMessage(content='Please tell me how can I help you?', additional_kwargs={}, response_metadata={}, name='LLMModel', id='b2f775be-c40e-4301-80b1-ababa45ca16d'),\n",
       " HumanMessage(content='I want to start learning coding.', additional_kwargs={}, response_metadata={}, name='Human', id='1522219b-1c77-4348-90c1-cb240531bd65'),\n",
       " AIMessage(content='Sure, what programming language are you interested in?', additional_kwargs={}, response_metadata={}, name='LLMModel', id='1f3d03af-1d26-43c2-bbcb-2336f243070e')]"
      ]
     },
     "execution_count": 27,
     "metadata": {},
     "output_type": "execute_result"
    }
   ],
   "source": [
    "## Reducers, add_messages is used to append instead of override. \n",
    "\n",
    "ai_message = (AIMessage(content=f\"Sure, what programming language are you interested in?\", name=\"LLMModel\"))\n",
    "appended_message = add_messages(initial_messages, ai_message)\n",
    "appended_message"
   ]
  },
  {
   "cell_type": "code",
   "execution_count": null,
   "id": "fa1884fb",
   "metadata": {},
   "outputs": [],
   "source": [
    "def llm_tools(state:State):\n",
    "    return {\"messages\": llm_with_tools.invoke(state[\"messages\"])}\n",
    "\n"
   ]
  },
  {
   "cell_type": "code",
   "execution_count": 33,
   "id": "8940df5d",
   "metadata": {},
   "outputs": [
    {
     "data": {
      "image/png": "[encoded data removed]",
      "text/plain": [
       "<IPython.core.display.Image object>"
      ]
     },
     "metadata": {},
     "output_type": "display_data"
    }
   ],
   "source": [
    "from IPython.display import Image, display\n",
    "from langgraph.graph import StateGraph, START, END \n",
    "\n",
    "graph = StateGraph(State) \n",
    "\n",
    "graph.add_node(\"llm_tools\", llm_tools) \n",
    "graph.add_edge(START, \"llm_tools\")\n",
    "graph.add_edge(\"llm_tools\", END)\n",
    "\n",
    "graph_builder = graph.compile() \n",
    "display(Image(graph_builder.get_graph().draw_mermaid_png()))\n"
   ]
  },
  {
   "cell_type": "code",
   "execution_count": 35,
   "id": "695002eb",
   "metadata": {},
   "outputs": [
    {
     "name": "stdout",
     "output_type": "stream",
     "text": [
      "================================\u001b[1m Human Message \u001b[0m=================================\n",
      "\n",
      "what is the sum of 20 and 22?\n",
      "==================================\u001b[1m Ai Message \u001b[0m==================================\n",
      "Tool Calls:\n",
      "  add (6nnxxqgbc)\n",
      " Call ID: 6nnxxqgbc\n",
      "  Args:\n",
      "    a: 20\n",
      "    b: 22\n"
     ]
    }
   ],
   "source": [
    "#graph_builder.invoke({\"messages\": [HumanMessage(content=\"What is the sum of 20 and 22?\", name=\"Human\")]}) \n",
    "result_messages = graph_builder.invoke({\"messages\": \"what is the sum of 20 and 22?\"})\n",
    "\n",
    "for lmessage in result_messages[\"messages\"]:\n",
    "    lmessage.pretty_print()\n",
    "    \n"
   ]
  },
  {
   "cell_type": "code",
   "execution_count": 41,
   "id": "9b6e5ace",
   "metadata": {},
   "outputs": [
    {
     "data": {
      "image/png": "[encoded data removed]",
      "text/plain": [
       "<IPython.core.display.Image object>"
      ]
     },
     "metadata": {},
     "output_type": "display_data"
    }
   ],
   "source": [
    "from langgraph.prebuilt import ToolNode\n",
    "from langgraph.prebuilt import tools_condition \n",
    "\n",
    "builder = StateGraph(State)\n",
    "tools = [add]\n",
    "\n",
    "## Add the nodes - \n",
    "builder.add_node(\"llm_tools\", llm_tools)\n",
    "builder.add_node(\"tools\", ToolNode(tools))\n",
    "\n",
    "## Add the edges - \n",
    "builder.add_edge(START, \"llm_tools\") \n",
    "builder.add_conditional_edges(\n",
    "    \"llm_tools\", \n",
    "    ## if latest message from assistance is a tool call --> tools condition routes to tool. \n",
    "    ## if latest message from assistance is a not a tool call --> tools condition routes to End. \n",
    "    tools_condition\n",
    ")\n",
    "\n",
    "builder.add_edge(\"tools\", END)\n",
    "\n",
    "graph_builder = builder.compile() \n",
    "display(Image(graph_builder.get_graph().draw_mermaid_png()))\n"
   ]
  },
  {
   "cell_type": "code",
   "execution_count": 42,
   "id": "0fefa315",
   "metadata": {},
   "outputs": [
    {
     "name": "stdout",
     "output_type": "stream",
     "text": [
      "================================\u001b[1m Human Message \u001b[0m=================================\n",
      "\n",
      "what is the sum of 39 and 22?\n",
      "==================================\u001b[1m Ai Message \u001b[0m==================================\n",
      "Tool Calls:\n",
      "  add (3r7rgc7vk)\n",
      " Call ID: 3r7rgc7vk\n",
      "  Args:\n",
      "    a: 39\n",
      "    b: 22\n",
      "=================================\u001b[1m Tool Message \u001b[0m=================================\n",
      "Name: add\n",
      "\n",
      "61\n"
     ]
    }
   ],
   "source": [
    "#graph_builder.invoke({\"messages\": [HumanMessage(content=\"What is the sum of 20 and 22?\", name=\"Human\")]}) \n",
    "result_messages = graph_builder.invoke({\"messages\": \"what is the sum of 39 and 22?\"})\n",
    "\n",
    "for lmessage in result_messages[\"messages\"]:\n",
    "    lmessage.pretty_print()\n",
    "    \n"
   ]
  },
  {
   "cell_type": "code",
   "execution_count": 40,
   "id": "52cd538a",
   "metadata": {},
   "outputs": [
    {
     "name": "stdout",
     "output_type": "stream",
     "text": [
      "================================\u001b[1m Human Message \u001b[0m=================================\n",
      "\n",
      "What is machine learning?\n",
      "==================================\u001b[1m Ai Message \u001b[0m==================================\n",
      "\n",
      "The provided tools do not include any functions that can explain or provide information about machine learning. However, I can answer your question directly.\n",
      "\n",
      "Machine learning is a subset of artificial intelligence (AI) that involves building systems that can learn from data. Instead of being explicitly programmed to perform a task, a machine learning model improves its performance through experience. This is done by using algorithms that iteratively learn from data, allowing the system to find hidden insights and patterns without being explicitly programmed where to look. Common applications include image recognition, natural language processing, recommendation systems, and more.\n"
     ]
    }
   ],
   "source": [
    "#graph_builder.invoke({\"messages\": [HumanMessage(content=\"What is the sum of 20 and 22?\", name=\"Human\")]}) \n",
    "result_messages = graph_builder.invoke({\"messages\": \"What is machine learning?\"})\n",
    "\n",
    "for lmessage in result_messages[\"messages\"]:\n",
    "    lmessage.pretty_print()\n",
    "    "
   ]
  }
 ],
 "metadata": {
  "kernelspec": {
   "display_name": ".venv",
   "language": "python",
   "name": "python3"
  },
  "language_info": {
   "codemirror_mode": {
    "name": "ipython",
    "version": 3
   },
   "file_extension": ".py",
   "mimetype": "text/x-python",
   "name": "python",
   "nbconvert_exporter": "python",
   "pygments_lexer": "ipython3",
   "version": "3.13.5"
  }
 },
 "nbformat": 4,
 "nbformat_minor": 5
}
