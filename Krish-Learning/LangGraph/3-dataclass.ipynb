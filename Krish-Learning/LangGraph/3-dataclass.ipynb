{
 "cells": [
  {
   "cell_type": "code",
   "execution_count": 3,
   "id": "dd5ae429",
   "metadata": {},
   "outputs": [],
   "source": [
    "from typing_extensions import TypedDict \n",
    "from typing import Literal\n",
    "\n",
    "import random\n",
    "\n",
    "class TypedDictState(TypedDict):\n",
    "    name: str\n",
    "    game: Literal[\"Cricket\", \"badminton\"]\n",
    "    "
   ]
  },
  {
   "cell_type": "code",
   "execution_count": 4,
   "id": "9dc20b4c",
   "metadata": {},
   "outputs": [],
   "source": [
    "def start_play(state:TypedDictState) -> TypedDictState: \n",
    "    print(\"Start_Play has been called\")\n",
    "    return {\"name\": state[\"name\"] + \" is planning to Play - \"}\n",
    "\n",
    "def cricket(state:TypedDictState) -> TypedDictState: \n",
    "    print(\"My Cricket node has been called\")\n",
    "    return {\"name\": state[\"name\"] + \" cricket.\", \"game\": \"cricket\"}\n",
    "\n",
    "def badminton(state:TypedDictState) -> TypedDictState: \n",
    "    print(\"My Badminton node has been called\")\n",
    "    return {\"name\": state[\"name\"] + \" badminton.\", \"game\": \"badminton\"}\n",
    "\n",
    "def decide_game(state: TypedDictState) -> Literal[\"cricket\", \"badminton\"]:\n",
    "    print(\"Decide_game has been called\")\n",
    "    if random.random() > 0.5: \n",
    "        return \"cricket\"\n",
    "    else:\n",
    "        return \"badminton\"\n"
   ]
  },
  {
   "cell_type": "code",
   "execution_count": 5,
   "id": "a6ff27b4",
   "metadata": {},
   "outputs": [
    {
     "data": {
      "image/png": "[encoded data removed]",
      "text/plain": [
       "<IPython.core.display.Image object>"
      ]
     },
     "metadata": {},
     "output_type": "display_data"
    }
   ],
   "source": [
    "from IPython.display import Image, display\n",
    "from langgraph.graph import StateGraph, START, END\n",
    "\n",
    "builder = StateGraph(TypedDictState)\n",
    "builder.add_node(\"start_play\", start_play)\n",
    "builder.add_node(\"cricket\", cricket)\n",
    "builder.add_node(\"badminton\", badminton)\n",
    "\n",
    "builder.add_edge(START, \"start_play\")\n",
    "builder.add_conditional_edges(\"start_play\", decide_game)\n",
    "builder.add_edge(\"cricket\", END)\n",
    "builder.add_edge(\"badminton\", END)\n",
    "\n",
    "# Add\n",
    "graph = builder.compile()\n",
    "\n",
    "# View\n",
    "display(Image(graph.get_graph().draw_mermaid_png()))\n",
    "\n"
   ]
  },
  {
   "cell_type": "code",
   "execution_count": 14,
   "id": "bd91e836",
   "metadata": {},
   "outputs": [
    {
     "name": "stdout",
     "output_type": "stream",
     "text": [
      "Start_Play has been called\n",
      "Decide_game has been called\n",
      "My Cricket node has been called\n"
     ]
    },
    {
     "data": {
      "text/plain": [
       "{'name': 'Jayant is planning to Play -  cricket.', 'game': 'cricket'}"
      ]
     },
     "execution_count": 14,
     "metadata": {},
     "output_type": "execute_result"
    }
   ],
   "source": [
    "graph.invoke({\"name\": \"Jayant\"})"
   ]
  },
  {
   "cell_type": "code",
   "execution_count": 15,
   "id": "29cb0dc1",
   "metadata": {},
   "outputs": [],
   "source": [
    "from dataclasses import dataclass\n",
    "\n",
    "@dataclass\n",
    "class DataClassState:\n",
    "    name: str\n",
    "    game: Literal[\"Cricket\", \"badminton\"]"
   ]
  },
  {
   "cell_type": "code",
   "execution_count": 16,
   "id": "64fbf1bf",
   "metadata": {},
   "outputs": [],
   "source": [
    "def play_game(state:DataClassState):\n",
    "    print(\"---Play Game node has been called--\")\n",
    "    return {\"name\":state.name + \" want to play \"}\n",
    "\n",
    "def cricket(state:DataClassState):\n",
    "    print(\"-- Cricket node has been called--\")\n",
    "    return {\"name\":state.name + \" cricket\",\"game\":\"cricket\"}\n",
    "\n",
    "def badminton(state:DataClassState):\n",
    "    print(\"-- badminton node has been called--\")\n",
    "    return {\"name\":state.name + \" badminton\",\"game\":\"badminton\"}"
   ]
  },
  {
   "cell_type": "code",
   "execution_count": 17,
   "id": "e33e6b45",
   "metadata": {},
   "outputs": [],
   "source": [
    "import random\n",
    "def decide_play(state:DataClassState)->Literal[\"cricket\",\"badminton\"]:\n",
    "    # Here, let's just do a 50 / 50 split between nodes 2, 3\n",
    "    if random.random() < 0.5:\n",
    "        return \"cricket\"\n",
    "    else:\n",
    "        return \"badminton\""
   ]
  },
  {
   "cell_type": "code",
   "execution_count": 18,
   "id": "c32d6ec9",
   "metadata": {},
   "outputs": [
    {
     "data": {
      "image/png": "[encoded data removed]",
      "text/plain": [
       "<IPython.core.display.Image object>"
      ]
     },
     "metadata": {},
     "output_type": "display_data"
    }
   ],
   "source": [
    "builder=StateGraph(DataClassState)\n",
    "builder.add_node(\"playgame\",play_game)\n",
    "builder.add_node(\"cricket\",cricket)\n",
    "builder.add_node(\"badminton\",badminton)\n",
    "\n",
    "## Flow of the graph\n",
    "\n",
    "builder.add_edge(START,\"playgame\")\n",
    "builder.add_conditional_edges(\"playgame\",decide_play)\n",
    "builder.add_edge(\"cricket\",END)\n",
    "builder.add_edge(\"badminton\",END)\n",
    "\n",
    "# Add\n",
    "graph = builder.compile()\n",
    "\n",
    "# View\n",
    "display(Image(graph.get_graph().draw_mermaid_png()))"
   ]
  },
  {
   "cell_type": "code",
   "execution_count": 19,
   "id": "11e8e244",
   "metadata": {},
   "outputs": [
    {
     "name": "stdout",
     "output_type": "stream",
     "text": [
      "---Play Game node has been called--\n",
      "-- Cricket node has been called--\n"
     ]
    },
    {
     "data": {
      "text/plain": [
       "{'name': 'KRish want to play  cricket', 'game': 'cricket'}"
      ]
     },
     "execution_count": 19,
     "metadata": {},
     "output_type": "execute_result"
    }
   ],
   "source": [
    "graph.invoke(DataClassState(name=\"KRish\",game=\"cricket\"))"
   ]
  },
  {
   "cell_type": "code",
   "execution_count": null,
   "id": "da3b27d7",
   "metadata": {},
   "outputs": [],
   "source": []
  }
 ],
 "metadata": {
  "kernelspec": {
   "display_name": ".venv",
   "language": "python",
   "name": "python3"
  },
  "language_info": {
   "codemirror_mode": {
    "name": "ipython",
    "version": 3
   },
   "file_extension": ".py",
   "mimetype": "text/x-python",
   "name": "python",
   "nbconvert_exporter": "python",
   "pygments_lexer": "ipython3",
   "version": "3.13.5"
  }
 },
 "nbformat": 4,
 "nbformat_minor": 5
}
