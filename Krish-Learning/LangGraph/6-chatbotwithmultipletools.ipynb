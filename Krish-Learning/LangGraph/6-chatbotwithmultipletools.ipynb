{
 "cells": [
  {
   "cell_type": "code",
   "execution_count": null,
   "id": "8837ec16",
   "metadata": {},
   "outputs": [],
   "source": [
    "## Create a Chatbot with tool capabilities from arxiv, wikipedia search, Taviliy and some functions. \n",
    "from langchain_community.tools import ArxivQueryRun, WikipediaQueryRun \n",
    "from langchain_community.utilities import WikipediaAPIWrapper, ArxivAPIWrapper\n",
    "\n",
    "from dotenv import load_dotenv\n",
    "load_dotenv()\n",
    "\n",
    "import os\n",
    "os.environ[\"OPENAI_API_KEY\"] = os.getenv(\"OPENAI_API_KEY\")\n",
    "os.environ[\"GROQ_API_KEY\"] = os.getenv(\"GROQ_API_KEY\")\n",
    "os.environ[\"TAVILY_API_KEY\"] = os.getenv(\"TAVILY_API_KEY\")\n",
    "os.environ[\"LANGCHAIN_API_KEY\"] = os.getenv(\"LANGCHAIN_API_KEY\")\n",
    "os.environ[\"LANGCHAIN_TRACING_V2\"] = \"true\"\n",
    "os.environ[\"LANGCHAIN_PROJECT\"] = \"ReAct-agent\""
   ]
  },
  {
   "cell_type": "code",
   "execution_count": 4,
   "id": "149e0548",
   "metadata": {},
   "outputs": [
    {
     "name": "stdout",
     "output_type": "stream",
     "text": [
      "arxiv\n"
     ]
    },
    {
     "data": {
      "text/plain": [
       "\"Published: 2024-07-22\\nTitle: Attention Is All You Need But You Don't Need All Of It For Inference of Large Language Models\\nAuthors: Georgy Tyukin, Gbetondji J-S Dovonon, Jean Kaddour, Pasquale Minervini\\nSummary: The inference demand for LLMs has skyrocketed in recent months, and serving\\nmodels with low latencies remains challenging due to the quadratic input length\\ncomplexity of the attention layers. In this work, we investigate the effect of\\ndropping MLP and attention layers at inference time o\""
      ]
     },
     "execution_count": 4,
     "metadata": {},
     "output_type": "execute_result"
    }
   ],
   "source": [
    "api_wrapper_arxiv = ArxivAPIWrapper(top_k_results=2, doc_content_chars_max=500)\n",
    "arxiv = ArxivQueryRun(api_wrapper=api_wrapper_arxiv)\n",
    "print(arxiv.name)\n",
    "arxiv.invoke(\"Attention is all you need\")"
   ]
  },
  {
   "cell_type": "code",
   "execution_count": 7,
   "id": "7f028818",
   "metadata": {},
   "outputs": [
    {
     "name": "stdout",
     "output_type": "stream",
     "text": [
      "wikipedia\n"
     ]
    },
    {
     "data": {
      "text/plain": [
       "'No good Wikipedia Search Result was found'"
      ]
     },
     "execution_count": 7,
     "metadata": {},
     "output_type": "execute_result"
    }
   ],
   "source": [
    "api_wrapper_wikipedia = WikipediaAPIWrapper(top_k_results=2, doc_content_chars_max=250)\n",
    "wiki = WikipediaQueryRun(api_wrapper=api_wrapper_wikipedia)\n",
    "print(wiki.name)\n",
    "\n",
    "wiki.invoke(\"What is meachine learning?\")"
   ]
  },
  {
   "cell_type": "code",
   "execution_count": 10,
   "id": "f0732991",
   "metadata": {},
   "outputs": [
    {
     "data": {
      "text/plain": [
       "[{'title': 'AI Today in 5: October 7, 2025, The AI for HR Edition',\n",
       "  'url': 'https://www.jdsupra.com/legalnews/ai-today-in-5-october-7-2025-the-ai-f-22480/',\n",
       "  'content': '3 hours ago—Welcome toAIToday in 5, the newest edition to the Compliance Podcast Network. Each day, Tom Fox will bring you 5 stories aboutAI,',\n",
       "  'score': 0.8025714},\n",
       " {'title': \"Novice Investor's Digest For Tuesday, October 7: AI News ...\",\n",
       "  'url': 'https://www.forbes.com/sites/catherinebrock/2025/10/07/novice-investors-digest-for-tuesday-october-7-ai-news-continues-to-dominate/',\n",
       "  'content': '# Novice Investor’s Digest For Tuesday, October 7: AI News Continues To Dominate\\n\\nByCatherine Brock,\\n\\nContributor.\\n\\nHigh-tech artificial intelligence concept illustration\\n\\nU.S. stocks were mixed Monday as AI news continues to dominate financial headlines. The large-cap S&P 500 index rose 0.4%, the technology-focused Nasdaq Composite rose 0.7%, and the Dow Jones Industrial Average, the blue-chip index, fell 0.1%. [...] Stock futures for the S&P 500, Nasdaq 100 and Dow Jones are roughly flat ahead of the market open on Monday.\\n\\n## Investing & Economic News To Watch\\n\\nFederal Reserve Board Governor Stephen Miran will speak at the Managed Funds Association Policy Outlook 2025 on Tuesday. Miran was appointed to the Fed’s policymaking committee just before the September interest-rate meeting. He disagreed with the quarter-point rate reduction, arguing instead for a larger cut. [...] On Monday, chipmaker AMD announced a multibillion-dollar partnership with OpenAI, the company behind ChatGPT. The deal involves AMD supplying chips to OpenAI over several years. AMD will generate tens of billions of dollars in annual revenue directly—and more indirectly if other buyers opt for AMD as an alternative supplier to Nvidia. The arrangement also gives OpenAI the option to buy about 10% of AMD.',\n",
       "  'score': 0.78631157},\n",
       " {'title': 'Americans widely expect AI-fueled attacks, poll finds',\n",
       "  'url': 'https://www.semafor.com/article/10/07/2025/americans-widely-expect-ai-fueled-attacks-poll-finds',\n",
       "  'content': 'Events Email Briefings\\n\\n Home\\n Politics\\n Business\\n Technology\\n Net Zero\\n Gulf\\n Africa\\n Security\\n Media\\n CEO Signal\\n\\n EventsEmail BriefingsPodcast\\n AboutSpeaker BureauCareers\\n\\nPrivacy© 2025 Semafor Inc.\\n\\n D.C.\\n BXL\\n Lagos\\n Riyadh\\n Beijing\\n SG\\n\\nEvents Email Briefings\\n\\n D.C.\\n BXL\\n Lagos\\n\\n Riyadh\\n Beijing\\n SG\\n\\nIntelligentTransparentGlobal\\n\\nFrom Semafor Principals\\n\\nIn your inbox, every weekday morning\\n\\nSign up\\n\\n# Americans widely expect AI-fueled attacks, poll finds\\n\\nOct 7, 2025, 4:55am EDT [...] And while a strong majority — six in 10 — of Americans believe AI will improve US scientific research, fewer say it will help the US economy (43%) or national security (37%). Policymakers, too, have expressed hopes and fears about both the national security and the economic implications of AI amid advancements.\\n\\nMeanwhile, the AI boom keeps booming: On Monday, OpenAI and AMD unveiled a multibillion-dollar data center deal, challenging powerhouse Nvidia.\\n\\n— Morgan Chalfant\\n\\nAD [...] PostEmailWhatsapp\\n\\nAmericans are wary of the adverse impact that artificial intelligence could have on US national security.\\n\\nNearly nine in 10 US adults believe that it is at least somewhat likely that foreign governments will use AI to attack the US in the next 20 years, and 43% say it’s very likely, according to new polling from Gallup and the Special Competitive Studies Project.',\n",
       "  'score': 0.7120925},\n",
       " {'title': 'Commission to adopt AI in science strategy on October 7',\n",
       "  'url': 'https://sciencebusiness.net/news/ai/commission-adopt-ai-science-strategy-october-7',\n",
       "  'content': '### Bringing together industry, research and policy\\n\\n# Commission to adopt AI in science strategy on October 7\\n\\nThe strategy will include plans for a distributed AI resource, delivering von der Leyen’s promise of a “CERN for AI”\\n\\nPhoto credits: Steve Johnson / Unsplash\\n\\nThe European Commission expects to adopt its AI in science strategy on October 7, it announced during its annual Research and Innovation Days conference in Brussels on September 17. [...] During a separate panel, research Commissioner Ekaterina Zaharieva confirmed that, in two weeks, the Commission will adopt its “apply AI strategy,” which will aim to support new industrial and public sector uses of AI.\\n\\nNever miss an update from Science|Business:   Newsletter sign-up\\n\\n#### Related News\\n\\n#### Get the Science|Business newsletters [...] Follow where the public and private R&I money is going and which collaborative opportunities you can pursue.\\n\\nSubscribe today\\n\\nLog in\\n\\n#### Find out more about the Science|Business Network\\n\\nNetwork iconA unique international forum for public research organisations and companies to connect their external engagement with strategic interests around their R&D system.\\n\\nNetwork icon\\n\\nWhy join?\\n\\nBecome a member\\n\\n#### Jobs\\n\\nHome\\n\\nPrivacy   |   T&Cs   |   © 2025 Science Business Publishing Ltd.',\n",
       "  'score': 0.68571854},\n",
       " {'title': 'Deloitte to Partially Refund Australian Government for ...',\n",
       "  'url': 'https://www.usnews.com/news/business/articles/2025-10-07/deloitte-to-partially-refund-australian-government-for-report-with-apparent-ai-generated-errors',\n",
       "  'content': '10 hours ago—Deloitte Australia will partially refund the Australian government for a report filled with apparentAI-generated errors.',\n",
       "  'score': 0.072328284}]"
      ]
     },
     "execution_count": 10,
     "metadata": {},
     "output_type": "execute_result"
    }
   ],
   "source": [
    "## TavilySearch results \n",
    "from langchain_community.tools.tavily_search import TavilySearchResults\n",
    "tavily = TavilySearchResults() \n",
    "\n",
    "tavily.invoke(\"Provide me recent AI news for Oct 7th 2025?\")"
   ]
  },
  {
   "cell_type": "code",
   "execution_count": 25,
   "id": "92032d6e",
   "metadata": {},
   "outputs": [],
   "source": [
    "def add(a:int, b: int) -> int: \n",
    "    \"\"\" Add a and b \n",
    "    Args: \n",
    "        a (int): first number \n",
    "        b (int): second number\n",
    "\n",
    "    Returns:\n",
    "        int: sum of a and b\n",
    "    \"\"\"\n",
    "    return a + b \n",
    "\n",
    "def subtract(a:int, b: int) -> int: \n",
    "    \"\"\" Subtract b from a\n",
    "    Args: \n",
    "        a (int): first number \n",
    "        b (int): second number\n",
    "\n",
    "    Returns:\n",
    "        int: difference of a and b\n",
    "    \"\"\"\n",
    "    return a - b \n",
    "\n",
    "def multiply(a:int, b: int) -> int: \n",
    "    \"\"\" Multiply a and b\n",
    "    Args: \n",
    "        a (int): first number \n",
    "        b (int): second number\n",
    "\n",
    "    Returns:\n",
    "        int: multiplication of a and b\n",
    "    \"\"\"\n",
    "    return a * b "
   ]
  },
  {
   "cell_type": "code",
   "execution_count": 26,
   "id": "994ef7a0",
   "metadata": {},
   "outputs": [],
   "source": [
    "## Combine all the tools in a list. \n",
    "tools = [arxiv, wiki, tavily, add, subtract, multiply] \n"
   ]
  },
  {
   "cell_type": "code",
   "execution_count": 12,
   "id": "3b1e6d20",
   "metadata": {},
   "outputs": [],
   "source": [
    "## Initialize the LLM\n",
    "from langchain_groq import ChatGroq\n",
    "llm = ChatGroq(model=\"qwen/qwen3-32b\") \n",
    "\n",
    "llm_with_tools = llm.bind_tools(tools=tools) \n"
   ]
  },
  {
   "cell_type": "code",
   "execution_count": null,
   "id": "53308836",
   "metadata": {},
   "outputs": [
    {
     "data": {
      "text/plain": [
       "[{'name': 'tavily_search_results_json',\n",
       "  'args': {'query': 'recent AI news'},\n",
       "  'id': 'jhhbn4vyk',\n",
       "  'type': 'tool_call'}]"
      ]
     },
     "execution_count": 18,
     "metadata": {},
     "output_type": "execute_result"
    }
   ],
   "source": [
    "from langchain_core.messages import AIMessage, HumanMessage\n",
    "from pprint import pprint\n",
    "\n",
    "llm_with_tools.invoke([HumanMessage(content=f\"What is the recent AI news?\", name=\"Human\")]).tool_calls \n"
   ]
  },
  {
   "cell_type": "code",
   "execution_count": null,
   "id": "714af20e",
   "metadata": {},
   "outputs": [],
   "source": [
    "llm_with_tools.invoke([HumanMessage(content=f\"What is the recent AI news?\", name=\"Human\")]).tool_calls "
   ]
  },
  {
   "cell_type": "code",
   "execution_count": 30,
   "id": "d3c186ed",
   "metadata": {},
   "outputs": [
    {
     "data": {
      "text/plain": [
       "<langgraph.graph.state.StateGraph at 0x22b06535090>"
      ]
     },
     "execution_count": 30,
     "metadata": {},
     "output_type": "execute_result"
    }
   ],
   "source": [
    "### Entier Chatbot with LangGraph \n",
    "\n",
    "from typing_extensions import Annotated, TypedDict\n",
    "from langchain_core.messages import AnyMessage\n",
    "from langgraph.graph.message import add_messages \n",
    "\n",
    "from IPython.display import Image, display\n",
    "from langgraph.graph import StateGraph, START, END \n",
    "from langgraph.prebuilt import ToolNode\n",
    "from langgraph.prebuilt import tools_condition \n",
    "\n",
    "class State(TypedDict):\n",
    "    messages: Annotated[list[AnyMessage], add_messages]\n",
    "\n",
    "def tools_calling_llm(state:State):\n",
    "    return {\"messages\": llm_with_tools.invoke(state[\"messages\"])}\n",
    "\n",
    "### Node definitions \n",
    "builder=StateGraph(State)\n",
    "builder.add_node(\"tools_calling_llm\", tools_calling_llm)\n",
    "builder.add_node(\"tools\", ToolNode(tools))\n",
    "\n",
    "builder.add_edge(START, \"tools_calling_llm\") \n",
    "builder.add_conditional_edges(\"tools_calling_llm\", tools_condition) \n",
    "##builder.add_edge(\"tools\", END)  ##  Regular call. \n",
    "builder.add_edge(\"tools\", \"tools_calling_llm\")    ##  Agentic call \n",
    "\n"
   ]
  },
  {
   "cell_type": "code",
   "execution_count": 33,
   "id": "9d213071",
   "metadata": {},
   "outputs": [
    {
     "data": {
      "image/png": "[encoded data removed]",
      "text/plain": [
       "<IPython.core.display.Image object>"
      ]
     },
     "metadata": {},
     "output_type": "display_data"
    },
    {
     "data": {
      "image/png": "[encoded data removed]",
      "text/plain": [
       "<IPython.core.display.Image object>"
      ]
     },
     "metadata": {},
     "output_type": "display_data"
    }
   ],
   "source": [
    "from langgraph.checkpoint.memory import MemorySaver \n",
    "\n",
    "memory = MemorySaver()\n",
    "\n",
    "graph_builder = builder.compile(checkpointer=memory) \n",
    "display(Image(graph_builder.get_graph().draw_mermaid_png()))\n",
    "\n",
    "graph_builder_memory = builder.compile(checkpointer=memory) \n",
    "display(Image(graph_builder_memory.get_graph().draw_mermaid_png()))\n",
    "\n"
   ]
  },
  {
   "cell_type": "code",
   "execution_count": 20,
   "id": "f4e5a1f4",
   "metadata": {},
   "outputs": [
    {
     "name": "stdout",
     "output_type": "stream",
     "text": [
      "================================\u001b[1m Human Message \u001b[0m=================================\n",
      "Name: Human\n",
      "\n",
      "what is the attention is all you need.\n",
      "==================================\u001b[1m Ai Message \u001b[0m==================================\n",
      "Tool Calls:\n",
      "  arxiv (mfmkdty11)\n",
      " Call ID: mfmkdty11\n",
      "  Args:\n",
      "    query: Attention is All You Need\n",
      "=================================\u001b[1m Tool Message \u001b[0m=================================\n",
      "Name: arxiv\n",
      "\n",
      "Published: 2024-07-22\n",
      "Title: Attention Is All You Need But You Don't Need All Of It For Inference of Large Language Models\n",
      "Authors: Georgy Tyukin, Gbetondji J-S Dovonon, Jean Kaddour, Pasquale Minervini\n",
      "Summary: The inference demand for LLMs has skyrocketed in recent months, and serving\n",
      "models with low latencies remains challenging due to the quadratic input length\n",
      "complexity of the attention layers. In this work, we investigate the effect of\n",
      "dropping MLP and attention layers at inference time o\n"
     ]
    }
   ],
   "source": [
    "result_messages = graph_builder.invoke({\"messages\": [HumanMessage(content=\"what is the attention is all you need.\", name=\"Human\")]})\n",
    "\n",
    "for lmessage in result_messages[\"messages\"]:\n",
    "    lmessage.pretty_print()"
   ]
  },
  {
   "cell_type": "code",
   "execution_count": 21,
   "id": "3bbbc85f",
   "metadata": {},
   "outputs": [
    {
     "name": "stdout",
     "output_type": "stream",
     "text": [
      "================================\u001b[1m Human Message \u001b[0m=================================\n",
      "\n",
      "1706.03762\n",
      "==================================\u001b[1m Ai Message \u001b[0m==================================\n",
      "Tool Calls:\n",
      "  arxiv (vr3t73rb0)\n",
      " Call ID: vr3t73rb0\n",
      "  Args:\n",
      "    query: 1706.03762\n",
      "=================================\u001b[1m Tool Message \u001b[0m=================================\n",
      "Name: arxiv\n",
      "\n",
      "Published: 2023-08-02\n",
      "Title: Attention Is All You Need\n",
      "Authors: Ashish Vaswani, Noam Shazeer, Niki Parmar, Jakob Uszkoreit, Llion Jones, Aidan N. Gomez, Lukasz Kaiser, Illia Polosukhin\n",
      "Summary: The dominant sequence transduction models are based on complex recurrent or\n",
      "convolutional neural networks in an encoder-decoder configuration. The best\n",
      "performing models also connect the encoder and decoder through an attention\n",
      "mechanism. We propose a new simple network architecture, the Transformer, base\n"
     ]
    }
   ],
   "source": [
    "result_messages = graph_builder.invoke({\"messages\": [HumanMessage(content=\"1706.03762\")]})\n",
    "\n",
    "for lmessage in result_messages[\"messages\"]:\n",
    "    lmessage.pretty_print()"
   ]
  },
  {
   "cell_type": "code",
   "execution_count": 22,
   "id": "6b918b83",
   "metadata": {},
   "outputs": [
    {
     "name": "stdout",
     "output_type": "stream",
     "text": [
      "================================\u001b[1m Human Message \u001b[0m=================================\n",
      "\n",
      "Provide me top 10 recent AI news for Oct-2025\n",
      "==================================\u001b[1m Ai Message \u001b[0m==================================\n",
      "Tool Calls:\n",
      "  tavily_search_results_json (8paf1g6s5)\n",
      " Call ID: 8paf1g6s5\n",
      "  Args:\n",
      "    query: top 10 recent AI news October 2025\n",
      "=================================\u001b[1m Tool Message \u001b[0m=================================\n",
      "Name: tavily_search_results_json\n",
      "\n",
      "[{\"title\": \"AI News Briefs BULLETIN BOARD for October 2025\", \"url\": \"https://radicaldatascience.wordpress.com/2025/10/03/ai-news-briefs-bulletin-board-for-october-2025-2/\", \"content\": \"[10/2/2025] Mira Murati’s Stealth AI Lab Launches Its First Product – The tool, called Tinker, automates fine-tuning of frontier open-source models like Meta’s Llama and Alibaba’s Qwen via supervised and reinforcement learning, letting users run downloaded custom models locally or elsewhere.\\n\\nKey details: [...] [10/3/2025] OpenAI Hits $500 Billion Valuation – OpenAI has reached a $500 billion valuation following a $6.6 billion secondary share sale by employees. It is now the world’s most valuable startup despite not yet turning a profit.\\n\\n[10/3/2025] Google DeepMind introduces AI agent for learning entirely inside world models – Google DeepMind’s Dreamer 4 is an AI agent that learns tasks inside its own world model. It beats OpenAI’s VPT using 100x less data and outperforms Gemma-3 approaches. [...] [10/2/2025] Unsloth new Reinforcement Learning – As Reinforcement Learning (RL) continues to gain momentum, Unsloth’s mission is to make it easier and more accessible for everyone. The company is introducing many new RL capabilities, including support for OpenAI’s gpt-oss, vision models, and more memory-efficient RL. Plus, our new gpt-oss RL inference achieves the fastest tokens/s vs. any implementation.\", \"score\": 0.94584644}, {\"title\": \"AI Revolutionizes Software Development: Key Updates ...\", \"url\": \"https://coaio.com/news/2025/10/ai-revolutionizes-software-development-key-updates-from-microsoft-anthropic-and-openai-in-october-2025/\", \"content\": \"## OpenAI’s Strategic Acqui-Hire: Pushing Personalized AI Forward\\n\\nOpenAI is not sitting idle amid this AI frenzy. On October 3, 2025, the company announced an acqui-hire of the CEO from Roi, an AI-powered financial companion app, as reported by TechCrunch. This move signals OpenAI’s commitment to enhancing its capabilities in personalized consumer AI, particularly for applications that boost revenue through tailored user experiences. [...] ## Recent Articles\\n\\nAI Revolution in Software Development: Key Updates from October 2025 and Their Industry Impact\\n\\n### AI Revolution in Software Development: Key Updates from October 2025 and Their Industry Impact\\n\\nAs of October 6, 2025, the tech world is buzzing with groundbreaking …\\n\\nAs of October 6, 2025, the tech world is buzzing with groundbreaking …\\n\\nAI-Driven Revolution in Software Development: Key Updates from October 2025 [...] The startup’s potential to disrupt the market echoes the rapid evolution of AI infrastructure. As software increasingly relies on powerful hardware, innovations like this could lower barriers for smaller teams, enabling them to compete with tech giants. This story from October 3, 2025, adds to the narrative of a diversified AI landscape, where hardware advancements directly influence software capabilities.\\n\\n## The Bigger Picture: How These Trends Impact Software Development\", \"score\": 0.9174287}, {\"title\": \"AI Product Launches October 2025 & Tools for Business ...\", \"url\": \"https://www.aiapps.com/blog/ai-news-breakthroughs-launches-trends/#:~:text=Conclusion: Key Points from October 2025&text=Generative and agent-based AI,data privacy and training efficiency.\", \"content\": \"October 2025 marked a pivotal moment for artificial intelligence, redefining how automation, creativity, and business processes are approached. These advancements not only pushed AI's potential further but also reshaped strategies across industries. Generative and agent-based AI models raised the bar for user expectations, while multimodal and context-aware tools made AI feel more natural and user-friendly. [...] October 2025 has brought a wave of exciting AI product launches, with major tech companies and startups introducing tools that align with trends in automation, education, and data analysis across the U.S.\\n\\n### Top AI Launches This Month\\n\\nThis diverse lineup highlights how AI is being fine-tuned to meet the specific needs of different industries.\\n\\n### Key AI Technology Comparison [...] Aiapps.com logo\\n\\n# Top AI News for October 2025: Breakthroughs, Launches & Trends You Can’t Miss\\n\\n## The Best AI Apps of October 2025: Top Picks\\n\\nArtificial intelligence is transforming industries faster than ever this October. Here's what you need to know:\\n\\n### Key Product Launches\\n\\n### AI Apps: Your Discovery Hub\", \"score\": 0.8978479}, {\"title\": \"AI Round-Up – October 2025\", \"url\": \"https://www.fladgate.com/insights/ai-round-up-october-2025\", \"content\": \"Google faced a backlash for secretly using AI to enhance creators' YouTube Shorts videos without their consent, leading to concerns over transparency, creator rights, and possible legal challenges around unauthorised content modification. Creators like Rick Beato and Rhett Shull noticed visual distortions such as unnatural skin smoothing, sharper details, and warped features that felt intrusive and misrepresentative of their original work, raising serious transparency and authenticity concerns. [...] monopoly to force publishers into accepting AI content use without compensation, causing a revenue drop exceeding one-third. Google denies these claims, stating AI Overviews enhance user experience and drive broader content discovery, promising to defend against what it calls baseless allegations. [...] Elon Musk’s AI venture xAI announced the creation of a new purely AI-driven software company called Macrohard, designed to simulate traditional software companies like Microsoft entirely via artificial intelligence. Macrohard, which is closely integrated with xAI’s powerful Colossus 2 supercomputer cluster in Memphis, aims to deploy hundreds of specialised generative AI agents that collaborate to handle a wide range of software development, coding, and management tasks autonomously, potentially\", \"score\": 0.89501935}, {\"title\": \"AI News | Latest AI News, Analysis & Events\", \"url\": \"https://www.artificialintelligence-news.com/\", \"content\": \"How AI is changing the way we travel · October 7, 2025 ; Spot AI introduces the world's first universal AI agent builder for security cameras · April 10, 2025\", \"score\": 0.7123327}]\n"
     ]
    }
   ],
   "source": [
    "result_messages = graph_builder.invoke({\"messages\": [HumanMessage(content=\"Provide me top 10 recent AI news for Oct-2025\")]})\n",
    "\n",
    "for lmessage in result_messages[\"messages\"]:\n",
    "    lmessage.pretty_print()"
   ]
  },
  {
   "cell_type": "code",
   "execution_count": 23,
   "id": "b4bd7df9",
   "metadata": {},
   "outputs": [
    {
     "name": "stdout",
     "output_type": "stream",
     "text": [
      "================================\u001b[1m Human Message \u001b[0m=================================\n",
      "\n",
      "What is Machine Learning?\n",
      "==================================\u001b[1m Ai Message \u001b[0m==================================\n",
      "Tool Calls:\n",
      "  wikipedia (2d8pk5qd4)\n",
      " Call ID: 2d8pk5qd4\n",
      "  Args:\n",
      "    query: Machine Learning\n",
      "=================================\u001b[1m Tool Message \u001b[0m=================================\n",
      "Name: wikipedia\n",
      "\n",
      "Page: Machine learning\n",
      "Summary: Machine learning (ML) is a field of study in artificial intelligence concerned with the development and study of statistical algorithms that can learn from data and generalise to unseen data, and thus perform tasks wit\n"
     ]
    }
   ],
   "source": [
    "result_messages = graph_builder.invoke({\"messages\": [HumanMessage(content=\"What is Machine Learning?\")]})\n",
    "\n",
    "for lmessage in result_messages[\"messages\"]:\n",
    "    lmessage.pretty_print()"
   ]
  },
  {
   "cell_type": "code",
   "execution_count": 28,
   "id": "c4169f77",
   "metadata": {},
   "outputs": [
    {
     "name": "stdout",
     "output_type": "stream",
     "text": [
      "================================\u001b[1m Human Message \u001b[0m=================================\n",
      "\n",
      "Provide me top 10 recent AI news for Oct-2025, and then calculate 10 plus 15 and then multiply the result by 5, and then subtract 20 from it.\n",
      "==================================\u001b[1m Ai Message \u001b[0m==================================\n",
      "Tool Calls:\n",
      "  tavily_search_results_json (qb2pybhy5)\n",
      " Call ID: qb2pybhy5\n",
      "  Args:\n",
      "    query: top 10 recent AI news October 2025\n",
      "=================================\u001b[1m Tool Message \u001b[0m=================================\n",
      "Name: tavily_search_results_json\n",
      "\n",
      "[{\"title\": \"AI News Briefs BULLETIN BOARD for October 2025\", \"url\": \"https://radicaldatascience.wordpress.com/2025/10/03/ai-news-briefs-bulletin-board-for-october-2025-2/\", \"content\": \"[10/2/2025] Mira Murati’s Stealth AI Lab Launches Its First Product – The tool, called Tinker, automates fine-tuning of frontier open-source models like Meta’s Llama and Alibaba’s Qwen via supervised and reinforcement learning, letting users run downloaded custom models locally or elsewhere.\\n\\nKey details: [...] [10/7/2025] Sakana AI – ShinkaEvolve, an open-source framework from Sakana AI, uses LLMs to achieve state-of-the-art sample efficiency in evolving programs. It significantly improves solutions in areas like circle packing, math competition problem-solving, competitive programming, and LLM training design. The framework’s innovative methodologies include exploration-exploitation balancing, novelty-based program rejection, and dynamic LLM prioritization. [...] [10/3/2025] OpenAI Hits $500 Billion Valuation – OpenAI has reached a $500 billion valuation following a $6.6 billion secondary share sale by employees. It is now the world’s most valuable startup despite not yet turning a profit.\\n\\n[10/3/2025] Google DeepMind introduces AI agent for learning entirely inside world models – Google DeepMind’s Dreamer 4 is an AI agent that learns tasks inside its own world model. It beats OpenAI’s VPT using 100x less data and outperforms Gemma-3 approaches.\", \"score\": 0.94584644}, {\"title\": \"AI Product Launches October 2025 & Tools for Business Automation\", \"url\": \"https://www.aiapps.com/blog/ai-news-breakthroughs-launches-trends/\", \"content\": \"October 2025 marked a pivotal moment for artificial intelligence, redefining how automation, creativity, and business processes are approached. These advancements not only pushed AI's potential further but also reshaped strategies across industries. Generative and agent-based AI models raised the bar for user expectations, while multimodal and context-aware tools made AI feel more natural and user-friendly. [...] October 2025 has brought a wave of exciting AI product launches, with major tech companies and startups introducing tools that align with trends in automation, education, and data analysis across the U.S.\\n\\n### Top AI Launches This Month\\n\\nThis diverse lineup highlights how AI is being fine-tuned to meet the specific needs of different industries.\\n\\n### Key AI Technology Comparison [...] Aiapps.com logo\\n\\n# Top AI News for October 2025: Breakthroughs, Launches & Trends You Can’t Miss\\n\\n## The Best AI Apps of October 2025: Top Picks\\n\\nArtificial intelligence is transforming industries faster than ever this October. Here's what you need to know:\\n\\n### Key Product Launches\\n\\n### AI Apps: Your Discovery Hub\", \"score\": 0.9047265}, {\"title\": \"Your Complete Guide to AI Breakthroughs in Fall 2025: Shocking ...\", \"url\": \"https://medium.com/@ferreradaniel/your-complete-guide-to-ai-breakthroughs-in-fall-2025-shocking-developments-surging-trends-and-ff456f8845ed\", \"content\": \"Meta Description: Explore the biggest AI breakthroughs of Fall 2025, including Nvidia/OpenAI’s $100B deal, new AI hardware, health tech, search and image models, plus expert insights on how these trends will impact your daily life. Stay ahead with actionable advice, professional SEO tips, and more.\\n\\n#tags AI, Artificial Intelligence, AI News, AI Breakthroughs, Fall 2025, Nvidia, OpenAI, DeepSeek, Google Gemini, ByteDance, AI Hardware, AI Startups, Quantum AI, Healthcare AI, AI Regulation [...] Sick of boring assistants? OpenAI’s Sora app hit #1 in Apple’s App Store, shooting AI voice and video tools into the mainstream. Chrome’s new Gemini features, meanwhile, help people zip through research, organize tabs, and wrangle endless browser windows without losing their minds.\\n\\n## AI for Cars, Clouds, and More [...] On-device AI makes cars smarter by bringing voice and vision assistants from the cloud to your dashboard. Arm, the company behind most mobile chips, keeps boosting its smart-car game. Meanwhile, Oracle bet big on cloud AI infrastructure with a $300 billion deal — catapulting its revenue and reputation in one jump.\\n\\n## Quantum Leaps and Fusion Dreams\", \"score\": 0.8997663}, {\"title\": \"The 2025 AI Index Report | Stanford HAI\", \"url\": \"https://hai.stanford.edu/ai-index/2025-ai-index-report\", \"content\": \"Generative AI saw particularly strong momentum, attracting $33.9 billion globally in private investment—an 18.7% increase from 2023. AI business usage is also\", \"score\": 0.6426349}, {\"title\": \"AI News | Latest AI News, Analysis & Events\", \"url\": \"https://www.artificialintelligence-news.com/\", \"content\": \"SoftBank chief: Forget AGI, ASI will be here within 10 years ; Malaysia launches Ryt Bank, its first AI-powered bank · Finance AI. August 26, 2025 ; Google's Veo\", \"score\": 0.36121032}]\n",
      "==================================\u001b[1m Ai Message \u001b[0m==================================\n",
      "\n",
      "### Top 10 Recent AI News for October 2025:\n",
      "1. **Mira Murati’s Stealth AI Lab Launches Tinker**  \n",
      "   - Automates fine-tuning of open-source models like Llama and Qwen using supervised and reinforcement learning.  \n",
      "   *Source: [Radical Data Science](https://radicaldatascience.wordpress.com/2025/10/03/ai-news-briefs-bulletin-board-for-october-2025-2/)*\n",
      "\n",
      "2. **Sakana AI’s ShinkaEvolve Framework**  \n",
      "   - Achieves state-of-the-art sample efficiency in program evolution, excelling in math problems, coding, and AI training design.  \n",
      "   *Source: [Radical Data Science](https://radicaldatascience.wordpress.com/2025/10/03/ai-news-briefs-bulletin-board-for-october-2025-2/)*\n",
      "\n",
      "3. **OpenAI Reaches $500 Billion Valuation**  \n",
      "   - Surpasses $500B valuation after a $6.6B secondary share sale by employees.  \n",
      "   *Source: [Radical Data Science](https://radicaldatascience.wordpress.com/2025/10/03/ai-news-briefs-bulletin-board-for-october-2025-2/)*\n",
      "\n",
      "4. **Google DeepMind’s Dreamer 4 Agent**  \n",
      "   - Learns tasks entirely within its world model, using 100x less data than competitors.  \n",
      "   *Source: [Radical Data Science](https://radicaldatascience.wordpress.com/2025/10/03/ai-news-briefs-bulletin-board-for-october-2025-2/)*\n",
      "\n",
      "5. **Nvidia/OpenAI $100B Partnership**  \n",
      "   - Major collaboration to advance AI hardware and software ecosystems.  \n",
      "   *Source: [Medium](https://medium.com/@ferreradaniel/your-complete-guide-to-ai-breakthroughs-in-fall-2025-shocking-developments-surging-trends-and-ff456f8845ed)*\n",
      "\n",
      "6. **OpenAI’s Sora App Dominates Apple App Store**  \n",
      "   - AI-driven video/voice tool becomes top download, mainstreaming generative AI.  \n",
      "   *Source: [Medium](https://medium.com/@ferreradaniel/your-complete-guide-to-ai-breakthroughs-in-fall-2025-shocking-developments-surging-trends-and-ff456f8845ed)*\n",
      "\n",
      "7. **Oracle’s $300B Cloud AI Infrastructure Deal**  \n",
      "   - Boosts cloud AI capabilities, challenging AWS and Azure.  \n",
      "   *Source: [Medium](https://medium.com/@ferreradaniel/your-complete-guide-to-ai-breakthroughs-in-fall-2025-shocking-developments-surging-trends-and-ff456f8845ed)*\n",
      "\n",
      "8. **On-Device AI in Smart Cars**  \n",
      "   - Arm and others advance voice/vision assistants for vehicles, reducing cloud dependency.  \n",
      "   *Source: [Medium](https://medium.com/@ferreradaniel/your-complete-guide-to-ai-breakthroughs-in-fall-2025-shocking-developments-surging-trends-and-ff456f8845ed)*\n",
      "\n",
      "9. **Stanford AI Index 2025 Highlights**  \n",
      "   - Generative AI attracts $33.9B in global private investment (18.7% YoY growth).  \n",
      "   *Source: [Stanford HAI](https://hai.stanford.edu/ai-index/2025-ai-index-report)*\n",
      "\n",
      "10. **Malaysia Launches Ryt Bank (First AI-Powered Bank)**  \n",
      "    - Fully automated banking services driven by AI.  \n",
      "    *Source: [AI News](https://www.artificialintelligence-news.com/)*\n",
      "\n",
      "---\n",
      "\n",
      "### Math Calculation:  \n",
      "**Problem**: $ (10 + 15) \\times 5 - 20 $  \n",
      "**Steps**:  \n",
      "1. $ 10 + 15 = 25 $  \n",
      "2. $ 25 \\times 5 = 125 $  \n",
      "3. $ 125 - 20 = 105 $  \n",
      "**Final Result**: **105**\n"
     ]
    }
   ],
   "source": [
    "result_messages = graph_builder.invoke({\"messages\": [HumanMessage(content=\"Provide me top 10 recent AI news for Oct-2025, and then calculate 10 plus 15 and then multiply the result by 5, and then subtract 20 from it.\")]})\n",
    "\n",
    "for lmessage in result_messages[\"messages\"]:\n",
    "    lmessage.pretty_print()"
   ]
  },
  {
   "cell_type": "code",
   "execution_count": 29,
   "id": "e00a0686",
   "metadata": {},
   "outputs": [
    {
     "name": "stdout",
     "output_type": "stream",
     "text": [
      "================================\u001b[1m Human Message \u001b[0m=================================\n",
      "\n",
      "Now add 15 to previoud result.\n",
      "==================================\u001b[1m Ai Message \u001b[0m==================================\n",
      "\n",
      "There is no previous result available to add 15 to. Please provide a number or context to perform the addition, or clarify if you meant a different type of query.\n"
     ]
    }
   ],
   "source": [
    "result_messages = graph_builder.invoke({\"messages\": [HumanMessage(content=\"Now add 15 to previoud result.\")]})\n",
    "\n",
    "for lmessage in result_messages[\"messages\"]:\n",
    "    lmessage.pretty_print()"
   ]
  },
  {
   "cell_type": "code",
   "execution_count": 35,
   "id": "d3a028fa",
   "metadata": {},
   "outputs": [
    {
     "name": "stdout",
     "output_type": "stream",
     "text": [
      "================================\u001b[1m Human Message \u001b[0m=================================\n",
      "\n",
      "Add 3 and 4\n",
      "==================================\u001b[1m Ai Message \u001b[0m==================================\n",
      "\n",
      "The sum of 3 and 4 is **7**.\n",
      "================================\u001b[1m Human Message \u001b[0m=================================\n",
      "\n",
      "Add 3 and 4\n",
      "==================================\u001b[1m Ai Message \u001b[0m==================================\n",
      "\n",
      "The sum of 3 and 4 is **7**.\n"
     ]
    }
   ],
   "source": [
    "config1={\"configurable\": {\"thread_id\":\"1\"}}\n",
    "messages = [HumanMessage(content=\"Add 3 and 4\")]\n",
    "\n",
    "result_messages = graph_builder_memory.invoke({\"messages\": messages}, config=config1)\n",
    "for lmessage in result_messages[\"messages\"]:\n",
    "    lmessage.pretty_print()"
   ]
  },
  {
   "cell_type": "code",
   "execution_count": 36,
   "id": "5fe6f071",
   "metadata": {},
   "outputs": [
    {
     "name": "stdout",
     "output_type": "stream",
     "text": [
      "================================\u001b[1m Human Message \u001b[0m=================================\n",
      "\n",
      "Add 3 and 4\n",
      "==================================\u001b[1m Ai Message \u001b[0m==================================\n",
      "\n",
      "The sum of 3 and 4 is **7**.\n",
      "================================\u001b[1m Human Message \u001b[0m=================================\n",
      "\n",
      "Add 3 and 4\n",
      "==================================\u001b[1m Ai Message \u001b[0m==================================\n",
      "\n",
      "The sum of 3 and 4 is **7**.\n",
      "================================\u001b[1m Human Message \u001b[0m=================================\n",
      "\n",
      "Now multiply the result by 10\n",
      "==================================\u001b[1m Ai Message \u001b[0m==================================\n",
      "\n",
      "7 multiplied by 10 equals **70**.  \n",
      "\n",
      "**Step-by-step:**\n",
      "1. Previous result: 3 + 4 = 7  \n",
      "2. Multiply by 10: 7 × 10 = 70\n"
     ]
    }
   ],
   "source": [
    "messages = [HumanMessage(content=\"Now multiply the result by 10\")]\n",
    "\n",
    "result_messages = graph_builder_memory.invoke({\"messages\": messages}, config=config1)\n",
    "for lmessage in result_messages[\"messages\"]:\n",
    "    lmessage.pretty_print()"
   ]
  }
 ],
 "metadata": {
  "kernelspec": {
   "display_name": ".venv",
   "language": "python",
   "name": "python3"
  },
  "language_info": {
   "codemirror_mode": {
    "name": "ipython",
    "version": 3
   },
   "file_extension": ".py",
   "mimetype": "text/x-python",
   "name": "python",
   "nbconvert_exporter": "python",
   "pygments_lexer": "ipython3",
   "version": "3.13.5"
  }
 },
 "nbformat": 4,
 "nbformat_minor": 5
}
