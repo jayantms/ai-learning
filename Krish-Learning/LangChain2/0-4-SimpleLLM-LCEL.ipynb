{
 "cells": [
  {
   "cell_type": "code",
   "execution_count": 1,
   "id": "5181969e",
   "metadata": {},
   "outputs": [
    {
     "data": {
      "text/plain": [
       "'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'"
      ]
     },
     "execution_count": 1,
     "metadata": {},
     "output_type": "execute_result"
    }
   ],
   "source": [
    "## OpenSource Model - Groq \n",
    "\n",
    "import os\n",
    "from dotenv import load_dotenv \n",
    "\n",
    "load_dotenv()\n",
    "\n",
    "#os.environ[\"OPENAI_API_KEY\"] = os.getenv(\"OPENAI_API_KEY\")\n",
    "\n",
    "## Langsmith tracking. \n",
    "#os.environ[\"LANGCHAIN_API_KEY\"] = os.getenv(\"LANGCHAIN_API_KEY\")\n",
    "#os.environ[\"LANGCHAIN_TRACING_V2\"] = \"true\"\n",
    "#os.environ[\"LANGCHAIN_PROJECT\"] = os.getenv(\"LANGCHAIN_PROJECT\")\n",
    "os.environ[\"GROQ_API_KEY\"] = os.getenv(\"GROQ_API_KEY\")\n",
    "groq_api_key = os.getenv(\"GROQ_API_KEY\") \n",
    "groq_api_key\n"
   ]
  },
  {
   "cell_type": "code",
   "execution_count": 4,
   "id": "4d1c10e4",
   "metadata": {},
   "outputs": [
    {
     "data": {
      "text/plain": [
       "AIMessage(content=\"LangChain is an open-source framework designed to simplify the development of applications powered by large language models (LLMs). \\n\\nThink of it as a toolbox filled with components specifically designed to work seamlessly with LLMs like me.\\n\\nHere's a breakdown of what LangChain offers:\\n\\n**Key Features:**\\n\\n* **Modular Components:** LangChain provides building blocks like:\\n    * **Models:**  Connectors to various LLMs (e.g., OpenAI, Hugging Face).\\n    * **Prompts:**  Tools for crafting effective instructions for LLMs.\\n    * **Memory:**  Mechanisms to store and retrieve context within conversations.\\n    * **Chains:**  Sequences of components that work together to accomplish a task (e.g., asking questions, summarizing text, generating different creative text formats).\\n    * **Agents:**  More advanced structures that can interact with external tools and APIs, expanding the capabilities of LLMs beyond text.\\n\\n* **Abstraction:** LangChain hides the complexities of interacting with LLMs, allowing developers to focus on building applications rather than low-level technical details.\\n\\n* **Flexibility:** It supports a wide range of LLMs and can be customized to suit specific use cases.\\n\\n* **Ecosystem:**  LangChain has a growing community and a library of pre-built chains and agents, making it easier to get started and find solutions to common problems.\\n\\n**Use Cases:**\\n\\nLangChain empowers developers to create a variety of applications, including:\\n\\n* **Chatbots:** Build conversational agents with memory and context awareness.\\n* **Question Answering Systems:**  Develop systems that can answer questions based on a given context or knowledge base.\\n* **Text Summarization:**  Generate concise summaries of large amounts of text.\\n* **Code Generation:**  Assist developers by generating code snippets in different programming languages.\\n* **Personalized Learning:**  Create adaptive learning experiences tailored to individual student needs.\\n\\n**In essence, LangChain acts as a bridge between the power of LLMs and the needs of developers, making it easier to build innovative and intelligent applications.**\\n\", additional_kwargs={}, response_metadata={'token_usage': {'completion_tokens': 432, 'prompt_tokens': 14, 'total_tokens': 446, 'completion_time': 0.785454545, 'prompt_time': 0.001250469, 'queue_time': 0.08980533, 'total_time': 0.786705014}, 'model_name': 'Gemma2-9b-It', 'system_fingerprint': 'fp_10c08bf97d', 'service_tier': 'on_demand', 'finish_reason': 'stop', 'logprobs': None}, id='run--a9007895-5f60-4400-aeed-1f925a460e50-0', usage_metadata={'input_tokens': 14, 'output_tokens': 432, 'total_tokens': 446})"
      ]
     },
     "execution_count": 4,
     "metadata": {},
     "output_type": "execute_result"
    }
   ],
   "source": [
    "\n",
    "from langchain_groq import ChatGroq\n",
    "\n",
    "llm = ChatGroq(model=\"Gemma2-9b-It\", groq_api_key=groq_api_key)\n",
    "response = llm.invoke(\"What is LangChain?\")\n",
    "response\n"
   ]
  },
  {
   "cell_type": "code",
   "execution_count": 14,
   "id": "3806257b",
   "metadata": {},
   "outputs": [
    {
     "data": {
      "text/plain": [
       "'Bonjour, comment allez-vous ? \\n'"
      ]
     },
     "execution_count": 14,
     "metadata": {},
     "output_type": "execute_result"
    }
   ],
   "source": [
    "from langchain_core.messages import SystemMessage, HumanMessage\n",
    "from langchain_core.output_parsers import StrOutputParser\n",
    "\n",
    "messages= [\n",
    "    SystemMessage(content=\"Translate the following English text to French.\"),\n",
    "    HumanMessage(content=\"Hello, how are you?\")\n",
    "]\n",
    "\n",
    "response = llm.invoke(messages)\n",
    "\n",
    "parser = StrOutputParser()\n",
    "response2 = parser.invoke(response) \n",
    "\n",
    "response2\n",
    "\n"
   ]
  },
  {
   "cell_type": "code",
   "execution_count": 15,
   "id": "2643f4c2",
   "metadata": {},
   "outputs": [
    {
     "data": {
      "text/plain": [
       "'Bonjour, comment allez-vous ? \\n\\n\\nYou can also use the more informal:\\n\\n* Salut, ça va ? \\n'"
      ]
     },
     "execution_count": 15,
     "metadata": {},
     "output_type": "execute_result"
    }
   ],
   "source": [
    "# Using LCEL - LangChain Expression Language, we can chain componsnets together.\n",
    "\n",
    "chain = llm | parser \n",
    "responce3 = chain.invoke(messages)\n",
    "responce3 "
   ]
  },
  {
   "cell_type": "code",
   "execution_count": 16,
   "id": "ffc49ba8",
   "metadata": {},
   "outputs": [],
   "source": [
    "# Prompt Templates\n",
    "from langchain_core.prompts import ChatPromptTemplate \n",
    "genericTemplate = \"Translation the following into {language} :\" \n",
    "prompt = ChatPromptTemplate.from_messages(\n",
    "    [(\"system\",genericTemplate), \n",
    "     (\"user\",\"{text}\")]\n",
    ")\n",
    "\n"
   ]
  },
  {
   "cell_type": "code",
   "execution_count": 18,
   "id": "b3f2bb35",
   "metadata": {},
   "outputs": [
    {
     "data": {
      "text/plain": [
       "[SystemMessage(content='Translation the following into French :', additional_kwargs={}, response_metadata={}),\n",
       " HumanMessage(content='What is your name?', additional_kwargs={}, response_metadata={})]"
      ]
     },
     "execution_count": 18,
     "metadata": {},
     "output_type": "execute_result"
    }
   ],
   "source": [
    "result = prompt.invoke({\"language\":\"French\", \"text\":\"What is your name?\"})\n",
    "result.to_messages()\n"
   ]
  },
  {
   "cell_type": "code",
   "execution_count": null,
   "id": "6d425006",
   "metadata": {},
   "outputs": [
    {
     "data": {
      "text/plain": [
       "'તારું નામ શું છે? (Taru naam shum chhe?) \\n'"
      ]
     },
     "execution_count": 20,
     "metadata": {},
     "output_type": "execute_result"
    },
    {
     "ename": "",
     "evalue": "",
     "output_type": "error",
     "traceback": [
      "\u001b[1;31mThe Kernel crashed while executing code in the current cell or a previous cell. \n",
      "\u001b[1;31mPlease review the code in the cell(s) to identify a possible cause of the failure. \n",
      "\u001b[1;31mClick <a href='https://aka.ms/vscodeJupyterKernelCrash'>here</a> for more info. \n",
      "\u001b[1;31mView Jupyter <a href='command:jupyter.viewOutput'>log</a> for further details."
     ]
    }
   ],
   "source": [
    "chain2 = prompt | llm | parser \n",
    "chain2.invoke({\"language\":\"Gujarati\", \"text\":\"What is your name?\"})"
   ]
  }
 ],
 "metadata": {
  "kernelspec": {
   "display_name": "langchain2",
   "language": "python",
   "name": "python3"
  },
  "language_info": {
   "codemirror_mode": {
    "name": "ipython",
    "version": 3
   },
   "file_extension": ".py",
   "mimetype": "text/x-python",
   "name": "python",
   "nbconvert_exporter": "python",
   "pygments_lexer": "ipython3",
   "version": "3.13.5"
  }
 },
 "nbformat": 4,
 "nbformat_minor": 5
}
