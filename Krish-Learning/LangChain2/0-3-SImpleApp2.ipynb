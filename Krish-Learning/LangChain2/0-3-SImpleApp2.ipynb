{
 "cells": [
  {
   "cell_type": "code",
   "execution_count": null,
   "id": "f709b24e",
   "metadata": {},
   "outputs": [],
   "source": [
    "# Simple GenAI App using LangChain\n",
    "import os\n",
    "from dotenv import load_dotenv \n",
    "\n",
    "from langchain_community.llms import Ollama\n",
    "import streamlit as st \n",
    "from langchain_core import ChatPromptTemplate\n",
    "from langchain_core.output_parsers import StrOutputParser\n",
    "\n",
    "load_dotenv()\n",
    "\n",
    "## Langsmith tracking. \n",
    "os.environ[\"LANGCHAIN_API_KEY\"] = os.getenv(\"LANGCHAIN_API_KEY\")\n",
    "os.environ[\"LANGCHAIN_TRACING_V2\"] = \"true\"\n",
    "os.environ[\"LANGCHAIN_PROJECT\"] = os.getenv(\"LANGCHAIN_PROJECT\")\n",
    "\n"
   ]
  }
 ],
 "metadata": {
  "language_info": {
   "name": "python"
  }
 },
 "nbformat": 4,
 "nbformat_minor": 5
}
