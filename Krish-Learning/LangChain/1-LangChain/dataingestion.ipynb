{
 "cells": [
  {
   "cell_type": "code",
   "execution_count": null,
   "id": "75edd96e",
   "metadata": {
    "vscode": {
     "languageId": "plaintext"
    }
   },
   "outputs": [],
   "source": [
    "## Text loader \n",
    "\n",
    "from langchain_community.document_loaders import TextLoader\n"
   ]
  }
 ],
 "metadata": {
  "language_info": {
   "name": "python"
  }
 },
 "nbformat": 4,
 "nbformat_minor": 5
}
