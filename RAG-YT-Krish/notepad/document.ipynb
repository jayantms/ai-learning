{
 "cells": [
  {
   "cell_type": "code",
   "execution_count": 10,
   "id": "c438bbab",
   "metadata": {},
   "outputs": [],
   "source": [
    "## Document structure \n",
    "from langchain_core.documents import Document  \n",
    "\n",
    "doc = Document(\n",
    "    page_content=\"This is a sample document\", \n",
    "    metadata={\n",
    "        \"source\": \"Abcd.txt\", \n",
    "        \"author\": \"Jayant\", \n",
    "        \"pages\": 5, \n",
    "        \"date_created\": \"2025-01-01\"\n",
    "    }\n",
    ")\n"
   ]
  },
  {
   "cell_type": "code",
   "execution_count": 11,
   "id": "dad0c898",
   "metadata": {},
   "outputs": [],
   "source": [
    "import os \n",
    "os.makedirs(\"../data/textfiles\", exist_ok=True)"
   ]
  },
  {
   "cell_type": "code",
   "execution_count": 12,
   "id": "2c5948df",
   "metadata": {},
   "outputs": [
    {
     "name": "stdout",
     "output_type": "stream",
     "text": [
      "[Document(metadata={'source': '../data/textfiles/python_programming_instruction.txt'}, page_content='\\nPython Programming Instructions\\n===============================\\n\\n1. Introduction\\n   - Python is an interpreted, high-level, general-purpose programming language.\\n   - It emphasizes readability and simplicity.\\n\\n2. Installation\\n   - Download from: https://www.python.org/downloads/\\n   - Verify installation:\\n       python --version\\n\\n3. Running Python\\n   - Run in interactive mode: python\\n   - Run a script file: python script_name.py\\n\\n4. Basic Syntax\\n   - Indentation defines code blocks (no curly braces).\\n   - Comments start with \\'#\\'.\\n\\n5. Variables and Data Types\\n   - Dynamic typing (no need to declare types).\\n   - Common types: int, float, str, list, tuple, dict, set.\\n\\n6. Control Flow\\n   - if, elif, else\\n   - for and while loops\\n   - break, continue, pass\\n\\n7. Functions\\n   def greet(name):\\n       print(f\"Hello, {name}!\")\\n\\n8. Modules and Packages\\n   - Import standard or custom modules:\\n       import math\\n       from datetime import date\\n\\n9. File Handling\\n   with open(\"file.txt\", \"r\") as file:\\n       content = file.read()\\n\\n10. Error Handling\\n    try:\\n        x = 10 / 0\\n    except ZeroDivisionError as e:\\n        print(\"Error:\", e)\\n\\n11. Object-Oriented Programming\\n    class Person:\\n        def __init__(self, name):\\n            self.name = name\\n        def greet(self):\\n            print(f\"Hello, I am {self.name}.\")\\n\\n12. Virtual Environments\\n    - Create: python -m venv venv\\n    - Activate: venv\\\\Scripts\\\\activate (Windows)\\n                source venv/bin/activate (Mac/Linux)\\n\\n13. Useful Libraries\\n    - numpy, pandas, matplotlib, requests, flask, torch, transformers\\n\\n14. Best Practices\\n    - Follow PEP 8 style guide.\\n    - Use meaningful variable names.\\n    - Keep functions short and modular.\\n    - Use virtual environments for projects.\\n\\n15. Running Scripts from Command Line\\n    python myscript.py arg1 arg2\\n')]\n"
     ]
    }
   ],
   "source": [
    "## Text loader \n",
    "from langchain.document_loaders import TextLoader \n",
    "loader = TextLoader(\"../data/textfiles/python_programming_instruction.txt\", encoding=\"utf8\")\n",
    "documents = loader.load() \n",
    "\n",
    "print(documents)\n"
   ]
  },
  {
   "cell_type": "code",
   "execution_count": 16,
   "id": "567c536c",
   "metadata": {},
   "outputs": [
    {
     "data": {
      "text/plain": [
       "[Document(metadata={'source': '..\\\\data\\\\textfiles\\\\machine_learning_introduction.txt'}, page_content='\\nMachine Learning Introduction\\n=============================\\n\\n1. What is Machine Learning?\\n   - Machine Learning (ML) is a branch of Artificial Intelligence (AI) that enables systems to learn from data and improve performance without being explicitly programmed.\\n\\n2. Key Concept\\n   - The idea is to let computers automatically learn patterns and make predictions or decisions based on data.\\n\\n3. Types of Machine Learning\\n   a) Supervised Learning\\n      - The model learns from labeled data (input-output pairs).\\n      - Examples: Linear Regression, Decision Trees, SVM, Neural Networks.\\n      - Use cases: Spam detection, price prediction, medical diagnosis.\\n\\n   b) Unsupervised Learning\\n      - The model learns from unlabeled data by finding structure or patterns.\\n      - Examples: K-Means Clustering, PCA, Autoencoders.\\n      - Use cases: Customer segmentation, anomaly detection.\\n\\n   c) Reinforcement Learning\\n      - The model learns by interacting with an environment and receiving feedback (rewards or penalties).\\n      - Examples: Q-Learning, Deep Q-Networks (DQN).\\n      - Use cases: Robotics, game playing, self-driving cars.\\n\\n4. Machine Learning Workflow\\n   1. Data Collection\\n   2. Data Cleaning and Preprocessing\\n   3. Feature Selection/Engineering\\n   4. Model Selection\\n   5. Training the Model\\n   6. Evaluation and Validation\\n   7. Deployment and Monitoring\\n\\n5. Common Algorithms\\n   - Linear Regression\\n   - Logistic Regression\\n   - Decision Trees\\n   - Random Forests\\n   - Support Vector Machines (SVM)\\n   - K-Nearest Neighbors (KNN)\\n   - Naive Bayes\\n   - Neural Networks\\n\\n6. Evaluation Metrics\\n   - Accuracy, Precision, Recall, F1-Score (for classification)\\n   - MSE, RMSE, R² (for regression)\\n   - Silhouette Score (for clustering)\\n\\n7. Tools and Libraries\\n   - Python Libraries: scikit-learn, pandas, numpy, matplotlib, seaborn, tensorflow, pytorch\\n   - Jupyter Notebook: for interactive experimentation and visualization\\n\\n8. Challenges in Machine Learning\\n   - Data quality and availability\\n   - Overfitting / Underfitting\\n   - Model interpretability\\n   - Computational resources\\n\\n9. Applications of Machine Learning\\n   - Finance: fraud detection, credit scoring\\n   - Healthcare: disease prediction, drug discovery\\n   - Retail: recommendation systems, demand forecasting\\n   - Transportation: autonomous vehicles, route optimization\\n   - Natural Language Processing: chatbots, sentiment analysis\\n\\n10. Next Steps\\n    - Learn Python and statistics fundamentals.\\n    - Practice with datasets (e.g., from Kaggle).\\n    - Experiment with scikit-learn for traditional ML.\\n    - Explore neural networks using PyTorch or TensorFlow.\\n'),\n",
       " Document(metadata={'source': '..\\\\data\\\\textfiles\\\\python_programming_instruction.txt'}, page_content='\\nPython Programming Instructions\\n===============================\\n\\n1. Introduction\\n   - Python is an interpreted, high-level, general-purpose programming language.\\n   - It emphasizes readability and simplicity.\\n\\n2. Installation\\n   - Download from: https://www.python.org/downloads/\\n   - Verify installation:\\n       python --version\\n\\n3. Running Python\\n   - Run in interactive mode: python\\n   - Run a script file: python script_name.py\\n\\n4. Basic Syntax\\n   - Indentation defines code blocks (no curly braces).\\n   - Comments start with \\'#\\'.\\n\\n5. Variables and Data Types\\n   - Dynamic typing (no need to declare types).\\n   - Common types: int, float, str, list, tuple, dict, set.\\n\\n6. Control Flow\\n   - if, elif, else\\n   - for and while loops\\n   - break, continue, pass\\n\\n7. Functions\\n   def greet(name):\\n       print(f\"Hello, {name}!\")\\n\\n8. Modules and Packages\\n   - Import standard or custom modules:\\n       import math\\n       from datetime import date\\n\\n9. File Handling\\n   with open(\"file.txt\", \"r\") as file:\\n       content = file.read()\\n\\n10. Error Handling\\n    try:\\n        x = 10 / 0\\n    except ZeroDivisionError as e:\\n        print(\"Error:\", e)\\n\\n11. Object-Oriented Programming\\n    class Person:\\n        def __init__(self, name):\\n            self.name = name\\n        def greet(self):\\n            print(f\"Hello, I am {self.name}.\")\\n\\n12. Virtual Environments\\n    - Create: python -m venv venv\\n    - Activate: venv\\\\Scripts\\\\activate (Windows)\\n                source venv/bin/activate (Mac/Linux)\\n\\n13. Useful Libraries\\n    - numpy, pandas, matplotlib, requests, flask, torch, transformers\\n\\n14. Best Practices\\n    - Follow PEP 8 style guide.\\n    - Use meaningful variable names.\\n    - Keep functions short and modular.\\n    - Use virtual environments for projects.\\n\\n15. Running Scripts from Command Line\\n    python myscript.py arg1 arg2\\n')]"
      ]
     },
     "execution_count": 16,
     "metadata": {},
     "output_type": "execute_result"
    }
   ],
   "source": [
    "## Directory loader \n",
    "from langchain_community.document_loaders import DirectoryLoader\n",
    "from langchain.document_loaders import TextLoader \n",
    "\n",
    "dir_loader = DirectoryLoader(\"../data/textfiles\", \n",
    "            glob=\"**/*.txt\", \n",
    "            loader_cls = TextLoader, \n",
    "            loader_kwargs={\"encoding\": \"utf8\"},\n",
    "            show_progress=False\n",
    ")\n",
    "\n",
    "dir_documents=dir_loader.load() \n",
    "dir_documents\n"
   ]
  },
  {
   "cell_type": "code",
   "execution_count": 20,
   "id": "01e68788",
   "metadata": {},
   "outputs": [
    {
     "data": {
      "text/plain": [
       "[Document(metadata={'producer': 'ReportLab PDF Library - www.reportlab.com', 'creator': '(unspecified)', 'creationdate': '2025-10-08T23:49:54+00:00', 'source': '..\\\\data\\\\pdf\\\\The_Fisherman_and_the_Golden_Fish.pdf', 'file_path': '..\\\\data\\\\pdf\\\\The_Fisherman_and_the_Golden_Fish.pdf', 'total_pages': 1, 'format': 'PDF 1.4', 'title': '(anonymous)', 'author': '(anonymous)', 'subject': '(unspecified)', 'keywords': '', 'moddate': '2025-10-08T23:49:54+00:00', 'trapped': '', 'modDate': \"D:20251008234954+00'00'\", 'creationDate': \"D:20251008234954+00'00'\", 'page': 0}, page_content='The Fisherman and the Golden Fish =================================\\nOnce there was a poor fisherman who caught a golden fish. The fish begged, “Please let me go, and I\\nwill grant you one wish.”\\nThe fisherman wished for food for his family. The fish granted it and swam away. But his greedy wife\\nwanted more—riches, a palace, even to rule the sea!\\nWhen she demanded to be queen of the ocean, the golden fish vanished, and they lost everything.\\nMoral: Be content with what you have. Greed can take away all your blessings.'),\n",
       " Document(metadata={'producer': 'ReportLab PDF Library - www.reportlab.com', 'creator': '(unspecified)', 'creationdate': '2025-10-08T23:49:54+00:00', 'source': '..\\\\data\\\\pdf\\\\The_Lost_Star.pdf', 'file_path': '..\\\\data\\\\pdf\\\\The_Lost_Star.pdf', 'total_pages': 1, 'format': 'PDF 1.4', 'title': '(anonymous)', 'author': '(anonymous)', 'subject': '(unspecified)', 'keywords': '', 'moddate': '2025-10-08T23:49:54+00:00', 'trapped': '', 'modDate': \"D:20251008234954+00'00'\", 'creationDate': \"D:20251008234954+00'00'\", 'page': 0}, page_content='The Lost Star ==============\\nHigh above the clouds lived a tiny star named Stella. Every night, she shone brightly among her friends.\\nBut one stormy evening, she fell from the sky into a dark forest.\\nStella was scared but brave. She met a firefly who guided her to the top of a tall tree. With the firefly’s\\nhelp, she glowed again, and the wind lifted her back to the sky.\\nMoral: Even when you fall, a little help and courage can make you shine again.'),\n",
       " Document(metadata={'producer': 'ReportLab PDF Library - www.reportlab.com', 'creator': '(unspecified)', 'creationdate': '2025-10-08T23:49:54+00:00', 'source': '..\\\\data\\\\pdf\\\\The_Wise_Owl.pdf', 'file_path': '..\\\\data\\\\pdf\\\\The_Wise_Owl.pdf', 'total_pages': 1, 'format': 'PDF 1.4', 'title': '(anonymous)', 'author': '(anonymous)', 'subject': '(unspecified)', 'keywords': '', 'moddate': '2025-10-08T23:49:54+00:00', 'trapped': '', 'modDate': \"D:20251008234954+00'00'\", 'creationDate': \"D:20251008234954+00'00'\", 'page': 0}, page_content='The Wise Owl =============\\nOnce upon a time, in a dense forest, there lived an old owl. He watched everything very carefully. The\\nowl saw many things—kind and cruel, smart and foolish.\\nOne day, he saw a boy helping a turtle cross the path. Another day, he saw a man shouting at his\\nservant. The owl thought, “The world is filled with both good and bad.”\\nAs the days passed, he spoke less and listened more. Soon, he became the wisest creature in the\\nforest.\\nMoral: Be observant and listen more. Wisdom comes with patience.')]"
      ]
     },
     "execution_count": 20,
     "metadata": {},
     "output_type": "execute_result"
    }
   ],
   "source": [
    "## Directory loader \n",
    "from langchain_community.document_loaders import DirectoryLoader\n",
    "from langchain.document_loaders import PyPDFLoader, PyMuPDFLoader\n",
    "\n",
    "pdf_dir_loader = DirectoryLoader(\"../data/pdf\", \n",
    "            glob=\"**/*.pdf\", \n",
    "            loader_cls = PyMuPDFLoader, \n",
    "            #loader_kwargs={\"encoding\": \"utf8\"},\n",
    "            show_progress=False\n",
    ")\n",
    "\n",
    "pdf_dir_documents=pdf_dir_loader.load() \n",
    "pdf_dir_documents"
   ]
  },
  {
   "cell_type": "code",
   "execution_count": 21,
   "id": "4db6ca6e",
   "metadata": {},
   "outputs": [
    {
     "name": "stderr",
     "output_type": "stream",
     "text": [
      "c:\\Jayant_HOME_Folder\\Basics\\Python\\RAG-YT-Krish\\.venv\\Lib\\site-packages\\tqdm\\auto.py:21: TqdmWarning: IProgress not found. Please update jupyter and ipywidgets. See https://ipywidgets.readthedocs.io/en/stable/user_install.html\n",
      "  from .autonotebook import tqdm as notebook_tqdm\n"
     ]
    }
   ],
   "source": [
    "import numpy as np \n",
    "from sentence_transformers import SentenceTransformer \n",
    "import chromadb\n",
    "from chromadb.config import Settings\n",
    "import uuid\n",
    "from typing import List, Dict, Any, Tuple \n",
    "from sklearn.metrics.pairwise import cosine_similarity\n"
   ]
  },
  {
   "cell_type": "code",
   "execution_count": null,
   "id": "025b6d90",
   "metadata": {},
   "outputs": [],
   "source": [
    "class EmbeddingManager: \n",
    "    "
   ]
  },
  {
   "cell_type": "code",
   "execution_count": null,
   "id": "96a63ee4",
   "metadata": {},
   "outputs": [],
   "source": []
  }
 ],
 "metadata": {
  "kernelspec": {
   "display_name": "RAG-YT-Krish",
   "language": "python",
   "name": "python3"
  },
  "language_info": {
   "codemirror_mode": {
    "name": "ipython",
    "version": 3
   },
   "file_extension": ".py",
   "mimetype": "text/x-python",
   "name": "python",
   "nbconvert_exporter": "python",
   "pygments_lexer": "ipython3",
   "version": "3.12.11"
  }
 },
 "nbformat": 4,
 "nbformat_minor": 5
}
